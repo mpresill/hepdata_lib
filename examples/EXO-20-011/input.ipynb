{
 "cells": [
  {
   "cell_type": "markdown",
   "metadata": {},
   "source": [
    "## General setup\n",
    "\n",
    "To make sure things are working and `hepdata_lib` is available, run the following command:"
   ]
  },
  {
   "cell_type": "code",
   "execution_count": 45,
   "metadata": {},
   "outputs": [],
   "source": [
    "import hepdata_lib"
   ]
  },
  {
   "cell_type": "markdown",
   "metadata": {},
   "source": [
    "## Creating your HEPData submission\n",
    "\n",
    "The `Submission` object represents the whole HEPData entry and thus carries the top-level meta data that is equally valid for all the tables and variables you may want to enter. The object is also used to create the physical submission files you will upload to the HEPData web interface.\n",
    "\n",
    "When using `hepdata_lib` to make an entry, you always need to create a `Submission` object. Let's do that now, and then add data to it step by step:"
   ]
  },
  {
   "cell_type": "code",
   "execution_count": 46,
   "metadata": {},
   "outputs": [],
   "source": [
    "from hepdata_lib import Submission\n",
    "submission = Submission()"
   ]
  },
  {
   "cell_type": "markdown",
   "metadata": {},
   "source": [
    "In general, a `Submission` should contain details on the actual analysis such as it's abstract as well as links to the actual publication. The abstract should be in a plain text file. For `inspire` there's a special `record_id`, while for links to `arXiv` etc. one should use plain hyperlinks."
   ]
  },
  {
   "cell_type": "code",
   "execution_count": 47,
   "metadata": {},
   "outputs": [],
   "source": [
    "submission.read_abstract(\"abstract.txt\")\n",
    "#submission.add_link(\"Webpage with all figures and tables\", \"https://cms-results.web.cern.ch/cms-results/public-results/publications/B2G-16-029/\")\n",
    "#submission.add_link(\"arXiv\", \"http://arxiv.org/abs/arXiv:1802.09407\")\n",
    "#submission.add_record_id(1657397, \"inspire\")"
   ]
  },
  {
   "cell_type": "markdown",
   "metadata": {},
   "source": [
    "Adding CalcHEP model and LHE headers"
   ]
  },
  {
   "cell_type": "code",
   "execution_count": 48,
   "metadata": {},
   "outputs": [],
   "source": [
    "submission.add_additional_resource(\"CalcHEP model.\",\"HNmodel.tar\", copy_file=True)\n",
    "submission.add_additional_resource(\"CalcHEP LHE headers.\",\"LHEheaders.tar\", copy_file=True)"
   ]
  },
  {
   "cell_type": "markdown",
   "metadata": {},
   "source": [
    "## Adding a table/figure\n",
    "\n",
    "In HEPData, figures and table will both be `Table` objects. The example here shows reading a plain text file containing the signal effiency times acceptance as a function of resonance mass for different signal models. The file has been uploaded to the `example_files` directory. For your submission, create a new directory, e.g. using the analysis identifier.\n",
    "\n",
    "Let's have a look at the file:"
   ]
  },
  {
   "cell_type": "code",
   "execution_count": 49,
   "metadata": {},
   "outputs": [
    {
     "name": "stdout",
     "output_type": "stream",
     "text": [
      "SELECTION           mumujj   eejj\r\n",
      "---------           ------  -----\r\n",
      "Trigger             0.692   0.515\r\n",
      "LeadingLepton>150GeV     0.692  0.515\r\n",
      "SubleadingLepton>100GeV   0.692  0.515  \r\n",
      "m(ll)>300GeV              0.659  0.491\r\n",
      "numberOfFatJets>0         0.379  0.284      \r\n"
     ]
    }
   ],
   "source": [
    "!head cutflowM500.txt"
   ]
  },
  {
   "cell_type": "markdown",
   "metadata": {},
   "source": [
    "The first column is the mass value, the other columns contain the efficiency times acceptance values.\n",
    "\n",
    "Let's create the table/figure. First, we need to give it a name, which is usually just the identifier in the paper, here \"Figure 1\". The table also needs a description, which is usually the caption. You also need to describe the location, i.e. where to find it in the publication:"
   ]
  },
  {
   "cell_type": "code",
   "execution_count": 50,
   "metadata": {},
   "outputs": [],
   "source": [
    "from hepdata_lib import Table\n",
    "table = Table(\"Cut-flow table\")\n",
    "table.description = \"Cut-flow table mN=0.5TeV, electron, muon channel, 2016.\"\n",
    "table.location = \"Additional material\""
   ]
  },
  {
   "cell_type": "markdown",
   "metadata": {},
   "source": [
    "Now we need to provide more information on what is actually shown, which is done via `keywords`. The ones that are available can be taken from the documentation:\n",
    "- [Observables](https://hepdata-submission.readthedocs.io/en/latest/keywords/observables.html)\n",
    "- [Phrases](https://hepdata-submission.readthedocs.io/en/latest/keywords/phrases.html)\n",
    "- [Particles](https://hepdata-submission.readthedocs.io/en/latest/keywords/partlist.html)"
   ]
  },
  {
   "cell_type": "code",
   "execution_count": 51,
   "metadata": {},
   "outputs": [],
   "source": [
    "table.keywords[\"observables\"] = [\"ACC\", \"EFF\"]"
   ]
  },
  {
   "cell_type": "markdown",
   "metadata": {},
   "source": [
    "Let's read in the file. For this purpose, `numpy` is very handy. Since the first two rows are the header, we skip them:"
   ]
  },
  {
   "cell_type": "code",
   "execution_count": 52,
   "metadata": {},
   "outputs": [],
   "source": [
    "import numpy as np\n",
    "data = np.loadtxt(\"cutflowM500.txt\", skiprows=2, usecols=range(1,3))"
   ]
  },
  {
   "cell_type": "code",
   "execution_count": 53,
   "metadata": {},
   "outputs": [],
   "source": [
    "dataTXT = np.loadtxt(\"cutflowM500.txt\", skiprows=2, usecols=range(0), dtype=\"str\")"
   ]
  },
  {
   "cell_type": "markdown",
   "metadata": {},
   "source": [
    "`numpy` stores the content as arrays. You can actually see that the entry that was labelled as `NaN` is correctly read in:"
   ]
  },
  {
   "cell_type": "code",
   "execution_count": 54,
   "metadata": {},
   "outputs": [
    {
     "name": "stdout",
     "output_type": "stream",
     "text": [
      "[[0.692 0.515]\n",
      " [0.692 0.515]\n",
      " [0.692 0.515]\n",
      " [0.659 0.491]\n",
      " [0.379 0.284]]\n"
     ]
    }
   ],
   "source": [
    "from __future__ import print_function\n",
    "print(data)"
   ]
  },
  {
   "cell_type": "markdown",
   "metadata": {},
   "source": [
    "We will now use this for our `Variable` definitions. The x-axis is usually the independent variable (`is_independent=True`), whereas the other ones are dependent (i.e. a function of the former). You also need to declare whether the variable is binned or not as well as the units. Similar as for the `keywords` used above, it is again important to provide additional information that can be found via the HEPData web interface using the observables and particles linked above. The values assigned are just slices of the `data` array:"
   ]
  },
  {
   "cell_type": "code",
   "execution_count": 55,
   "metadata": {},
   "outputs": [],
   "source": [
    "from hepdata_lib import Variable\n",
    "d = Variable(\"Selection\", is_independent=True, is_binned=False, units=\"\")\n",
    "d.values = dataTXT[:,0]\n",
    "\n",
    "Effmumujj = Variable(\"Efficiency mumujj\", is_independent=False, is_binned=False, units=\"\")\n",
    "Effmumujj.values = data[:,0]\n",
    "Effmumujj.add_qualifier(\"SQRT(S)\", 13, \"TeV\")\n",
    "\n",
    "Effeejj = Variable(\"Efficiency eejj\", is_independent=False, is_binned=False, units=\"\")\n",
    "Effeejj.values = data[:,1]\n",
    "Effeejj.add_qualifier(\"SQRT(S)\", 13, \"TeV\")\n",
    "\n",
    "table.add_variable(d)\n",
    "table.add_variable(Effmumujj)\n",
    "table.add_variable(Effeejj)"
   ]
  },
  {
   "cell_type": "markdown",
   "metadata": {},
   "source": [
    "This is all that's needed for the table/figure. We still need it to the submission:"
   ]
  },
  {
   "cell_type": "code",
   "execution_count": 56,
   "metadata": {},
   "outputs": [],
   "source": [
    "submission.add_table(table)"
   ]
  },
  {
   "cell_type": "markdown",
   "metadata": {},
   "source": [
    "Once you've added all tables/figures and the general submission details, you should add a few more keywords to all tables for better identification and searchability, e.g. the centre-of-mass energy:"
   ]
  },
  {
   "cell_type": "code",
   "execution_count": 57,
   "metadata": {},
   "outputs": [],
   "source": [
    "for table in submission.tables:\n",
    "    table.keywords[\"cmenergies\"] = [13000]"
   ]
  },
  {
   "cell_type": "markdown",
   "metadata": {},
   "source": [
    "# Reading histograms for SR plots"
   ]
  },
  {
   "cell_type": "markdown",
   "metadata": {},
   "source": [
    "### Electron channel"
   ]
  },
  {
   "cell_type": "code",
   "execution_count": 58,
   "metadata": {},
   "outputs": [],
   "source": [
    "from hepdata_lib import Table\n",
    "table = Table(\"Figure 4a\")\n",
    "table.description = \"Distributions of \\mllj for the data, and the post-fit backgrounds (stacked histograms), in the SRs of the \\eeqq channel. The template for one signal hypothesis is shown overlaid as a yellow solid line. The overflow is included in the last bin. The middle panels show ratios of the data to the pre-fit background prediction and post-fit background yield as red open squares and blue points, respectively. The gray band in the middle panels indicates the systematic component of the post-fit uncertainty. The lower panels show the distributions of the pulls, defined in the text.\"\n",
    "table.location = \"Data from Figure 4 (upper left).\"\n",
    "table.keywords[\"observables\"] = [\"N\"]\n",
    "table.add_image(\"Figure_004-a.pdf\")"
   ]
  },
  {
   "cell_type": "code",
   "execution_count": 59,
   "metadata": {},
   "outputs": [],
   "source": [
    "from hepdata_lib import RootFileReader\n",
    "\n",
    "reader = RootFileReader(\"eejj_PostFit_histograms_L13_M05_PLOT_SR.root\")\n",
    "reader_data = RootFileReader(\"eejj_PostFit_histograms_L13_M05_PLOT_SR.root\")\n",
    "reader_signal = RootFileReader(\"eejj_PostFit_histograms_L13_M05_PLOT_SR.root\")\n",
    "\n",
    "TotalBackground = reader.read_hist_1d(\"SR_postfit/TotalBkg\")\n",
    "#TT = reader.read_hist_1d(\"shapes_prefit/cat0_singleH/TT\")\n",
    "#QCD = reader.read_hist_1d(\"shapes_prefit/cat0_singleH/QCDTT\")\n",
    "#WJets = reader.read_hist_1d(\"shapes_prefit/cat0_singleH/WJets\")\n",
    "#ZJets = reader.read_hist_1d(\"shapes_prefit/cat0_singleH/ZJets\")\n",
    "\n",
    "Data = reader_data.read_hist_1d(\"SR_prefit/data_obs\")\n",
    "\n",
    "signal = reader_signal.read_hist_1d(\"SR_postfit/TotalSig\")"
   ]
  },
  {
   "cell_type": "code",
   "execution_count": 60,
   "metadata": {},
   "outputs": [],
   "source": [
    "Data['x']= Data['x'][2:]\n",
    "Data['x_edges']= Data['x_edges'][2:]\n",
    "Data['x_labels']= Data['x_labels'][2:]\n",
    "Data['y']= Data['y'][2:]\n",
    "Data['dy']= Data['dy'][2:]"
   ]
  },
  {
   "cell_type": "code",
   "execution_count": 61,
   "metadata": {},
   "outputs": [
    {
     "data": {
      "text/plain": [
       "{'x': [0.5, 0.7, 0.9, 1.2, 1.7, 2.75, 6.75],\n",
       " 'y': [17.0, 316.0, 442.0, 529.0, 201.0, 55.0, 3.0],\n",
       " 'x_edges': [(0.4, 0.6),\n",
       "  (0.5999999999999999, 0.8),\n",
       "  (0.8, 1.0),\n",
       "  (1.0, 1.4),\n",
       "  (1.4, 2.0),\n",
       "  (2.0, 3.5),\n",
       "  (3.5, 10.0)],\n",
       " 'x_labels': ['', '', '', '', '', '', ''],\n",
       " 'dy': [4.123105625617661,\n",
       "  17.776388834631177,\n",
       "  21.02379604162864,\n",
       "  23.0,\n",
       "  14.177446878757825,\n",
       "  7.416198487095663,\n",
       "  1.7320508075688772]}"
      ]
     },
     "execution_count": 61,
     "metadata": {},
     "output_type": "execute_result"
    }
   ],
   "source": [
    "#Data['y'][6]=''\n",
    "#Data['dy'][6]=''\n",
    "Data"
   ]
  },
  {
   "cell_type": "code",
   "execution_count": 62,
   "metadata": {},
   "outputs": [
    {
     "data": {
      "text/plain": [
       "{'x': [0.1, 0.30000000000000004, 0.5, 0.7, 0.9, 1.2, 1.7, 2.75, 6.75],\n",
       " 'y': [9.442180370911046e-09,\n",
       "  0.03634917363524437,\n",
       "  21.11818504333496,\n",
       "  311.08721923828125,\n",
       "  428.8046875,\n",
       "  478.2311096191406,\n",
       "  200.43923950195312,\n",
       "  56.502838134765625,\n",
       "  1.5858254432678223],\n",
       " 'x_edges': [(0.0, 0.2),\n",
       "  (0.20000000000000004, 0.4),\n",
       "  (0.4, 0.6),\n",
       "  (0.5999999999999999, 0.8),\n",
       "  (0.8, 1.0),\n",
       "  (1.0, 1.4),\n",
       "  (1.4, 2.0),\n",
       "  (2.0, 3.5),\n",
       "  (3.5, 10.0)],\n",
       " 'x_labels': ['', '', '', '', '', '', '', '', ''],\n",
       " 'dy': [2.163529638259804e-10,\n",
       "  0.0293767535903556,\n",
       "  2.3873863536961752,\n",
       "  9.919429449179514,\n",
       "  10.031811312339505,\n",
       "  14.671918175227677,\n",
       "  8.19926291544975,\n",
       "  4.182018918754771,\n",
       "  0.4180984010163905]}"
      ]
     },
     "execution_count": 62,
     "metadata": {},
     "output_type": "execute_result"
    }
   ],
   "source": [
    "TotalBackground"
   ]
  },
  {
   "cell_type": "code",
   "execution_count": 63,
   "metadata": {},
   "outputs": [],
   "source": [
    "TotalBackground['x']= TotalBackground['x'][2:]\n",
    "TotalBackground['x_edges']= TotalBackground['x_edges'][2:]\n",
    "TotalBackground['x_labels']= TotalBackground['x_labels'][2:]\n",
    "TotalBackground['y']= TotalBackground['y'][2:]\n",
    "TotalBackground['dy']= TotalBackground['dy'][2:]"
   ]
  },
  {
   "cell_type": "code",
   "execution_count": 64,
   "metadata": {},
   "outputs": [],
   "source": [
    "signal['x']= signal['x'][2:]\n",
    "signal['x_edges']= signal['x_edges'][2:]\n",
    "signal['x_labels']= signal['x_labels'][2:]\n",
    "signal['y']= signal['y'][2:]\n",
    "signal['dy']= signal['dy'][2:]"
   ]
  },
  {
   "cell_type": "code",
   "execution_count": 65,
   "metadata": {},
   "outputs": [
    {
     "data": {
      "text/plain": [
       "{'x': [0.5, 0.7, 0.9, 1.2, 1.7, 2.75, 6.75],\n",
       " 'y': [0.005832682363688946,\n",
       "  2.7306528091430664,\n",
       "  13.532551765441895,\n",
       "  45.658103942871094,\n",
       "  67.69922637939453,\n",
       "  69.75869750976562,\n",
       "  10.573692321777344],\n",
       " 'x_edges': [(0.4, 0.6),\n",
       "  (0.5999999999999999, 0.8),\n",
       "  (0.8, 1.0),\n",
       "  (1.0, 1.4),\n",
       "  (1.4, 2.0),\n",
       "  (2.0, 3.5),\n",
       "  (3.5, 10.0)],\n",
       " 'x_labels': ['', '', '', '', '', '', ''],\n",
       " 'dy': [0.0018763037115665676,\n",
       "  0.07963309571361413,\n",
       "  0.2656156441632101,\n",
       "  0.9410435059855214,\n",
       "  1.043453013932441,\n",
       "  1.4188860176129992,\n",
       "  0.4829481183501832]}"
      ]
     },
     "execution_count": 65,
     "metadata": {},
     "output_type": "execute_result"
    }
   ],
   "source": [
    "signal"
   ]
  },
  {
   "cell_type": "code",
   "execution_count": 66,
   "metadata": {},
   "outputs": [],
   "source": [
    "from hepdata_lib import Variable, Uncertainty\n",
    "\n",
    "# x-axis: B quark mass\n",
    "mmed = Variable(\"$m(eeJ)$\", is_independent=True, is_binned=True, units=\"TeV\")\n",
    "mmed.values = [ (0.4,0.6), (0.6,0.8), (0.8,1.0), (1.0,1.4), (1.4,2.0), (2.0,3.5), (3.5,10.0)]\n",
    "#mmed.values = signal[\"x\"]\n",
    "\n",
    "# y-axis: N events\n",
    "sig = Variable(\"Number of signal events\", is_independent=False, is_binned=False, units=\"\")\n",
    "sig.values = signal[\"y\"]\n",
    "\n",
    "totalbackground = Variable(\"Number of background events\", is_independent=False, is_binned=False, units=\"\")\n",
    "totalbackground.values = TotalBackground[\"y\"]\n",
    "\n",
    "#tt = Variable(\"Number of ttbar events\", is_independent=False, is_binned=False, units=\"\")\n",
    "#tt.values = TT[\"y\"]\n",
    "\n",
    "#qcd = Variable(\"Number of qcd events\", is_independent=False, is_binned=False, units=\"\")\n",
    "#qcd.values = QCD[\"y\"]\n",
    "\n",
    "#wjets = Variable(\"Number of wjets events\", is_independent=False, is_binned=False, units=\"\")\n",
    "#wjets.values = WJets[\"y\"]\n",
    "\n",
    "#zjets = Variable(\"Number of zjets events\", is_independent=False, is_binned=False, units=\"\")\n",
    "#zjets.values = ZJets[\"y\"]\n",
    "\n",
    "data = Variable(\"Number of data events\", is_independent=False, is_binned=False, units=\"\")\n",
    "data.values = Data[\"y\"]"
   ]
  },
  {
   "cell_type": "code",
   "execution_count": 67,
   "metadata": {
    "scrolled": true
   },
   "outputs": [],
   "source": [
    "from hepdata_lib import Uncertainty\n",
    "\n",
    "unc_totalbackground = Uncertainty(\"total uncertainty\", is_symmetric=True)\n",
    "unc_totalbackground.values = TotalBackground[\"dy\"]\n",
    "\n",
    "unc_data = Uncertainty(\"Poisson errors\", is_symmetric=True)\n",
    "unc_data.values = Data[\"dy\"]\n",
    "\n",
    "\n",
    "totalbackground.add_uncertainty(unc_totalbackground)\n",
    "data.add_uncertainty(unc_data)"
   ]
  },
  {
   "cell_type": "code",
   "execution_count": 68,
   "metadata": {},
   "outputs": [],
   "source": [
    "table.add_variable(mmed)\n",
    "#table.add_variable(sig)\n",
    "table.add_variable(totalbackground)\n",
    "#table.add_variable(tt)\n",
    "#table.add_variable(qcd)\n",
    "#table.add_variable(zjets)\n",
    "#table.add_variable(wjets)\n",
    "table.add_variable(data)\n",
    "\n",
    "submission.add_table(table)"
   ]
  },
  {
   "cell_type": "markdown",
   "metadata": {},
   "source": [
    "### Muon channel"
   ]
  },
  {
   "cell_type": "code",
   "execution_count": 69,
   "metadata": {},
   "outputs": [],
   "source": [
    "from hepdata_lib import Table\n",
    "table = Table(\"Figure 4b\")\n",
    "table.description = \"Distributions of \\mllj for the data, and the post-fit backgrounds (stacked histograms), in the SRs of the \\mmqq channel. The template for one signal hypothesis is shown overlaid as a yellow solid line. The overflow is included in the last bin. The middle panels show ratios of the data to the pre-fit background prediction and post-fit background yield as red open squares and blue points, respectively. The gray band in the middle panels indicates the systematic component of the post-fit uncertainty. The lower panels show the distributions of the pulls, defined in the text.\"\n",
    "table.location = \"Data from Figure 4 (upper right).\"\n",
    "table.keywords[\"observables\"] = [\"N\"]\n",
    "table.add_image(\"Figure_004-b.pdf\")\n",
    "\n",
    "\n",
    "from hepdata_lib import RootFileReader\n",
    "reader = RootFileReader(\"mumujj_PostFit_histograms_L13_M05_PLOT_SR.root\")\n",
    "reader_data = RootFileReader(\"mumujj_PostFit_histograms_L13_M05_PLOT_SR.root\")\n",
    "reader_signal = RootFileReader(\"mumujj_PostFit_histograms_L13_M05_PLOT_SR.root\")\n",
    "TotalBackground = reader.read_hist_1d(\"SR_postfit/TotalBkg\")\n",
    "Data = reader_data.read_hist_1d(\"SR_prefit/data_obs\")\n",
    "signal = reader_signal.read_hist_1d(\"SR_postfit/TotalSig\")\n",
    "\n",
    "Data['x']= Data['x'][2:]\n",
    "Data['x_edges']= Data['x_edges'][2:]\n",
    "Data['x_labels']= Data['x_labels'][2:]\n",
    "Data['y']= Data['y'][2:]\n",
    "Data['dy']= Data['dy'][2:]\n",
    "\n",
    "TotalBackground['x']= TotalBackground['x'][2:]\n",
    "TotalBackground['x_edges']= TotalBackground['x_edges'][2:]\n",
    "TotalBackground['x_labels']= TotalBackground['x_labels'][2:]\n",
    "TotalBackground['y']= TotalBackground['y'][2:]\n",
    "TotalBackground['dy']= TotalBackground['dy'][2:]\n",
    "\n",
    "signal['x']= signal['x'][2:]\n",
    "signal['x_edges']= signal['x_edges'][2:]\n",
    "signal['x_labels']= signal['x_labels'][2:]\n",
    "signal['y']= signal['y'][2:]\n",
    "signal['dy']= signal['dy'][2:]\n",
    "\n",
    "\n",
    "from hepdata_lib import Variable, Uncertainty\n",
    "\n",
    "mmed = Variable(\"$m(\\mu \\mu J)$\", is_independent=True, is_binned=True, units=\"TeV\")\n",
    "#mmed.values = signal[\"x\"]\n",
    "mmed.values = [ (0.4,0.6), (0.6,0.8), (0.8,1.0), (1.0,1.4), (1.4,2.0), (2.0,3.5), (3.5,10.0)]\n",
    "\n",
    "sig = Variable(\"Number of signal events\", is_independent=False, is_binned=False, units=\"\")\n",
    "sig.values = signal[\"y\"]\n",
    "totalbackground = Variable(\"Number of background events\", is_independent=False, is_binned=False, units=\"\")\n",
    "totalbackground.values = TotalBackground[\"y\"]\n",
    "data = Variable(\"Number of data events\", is_independent=False, is_binned=False, units=\"\")\n",
    "data.values = Data[\"y\"]\n",
    "\n",
    "\n",
    "from hepdata_lib import Uncertainty\n",
    "unc_totalbackground = Uncertainty(\"total uncertainty\", is_symmetric=True)\n",
    "unc_totalbackground.values = TotalBackground[\"dy\"]\n",
    "unc_data = Uncertainty(\"Poisson errors\", is_symmetric=True)\n",
    "unc_data.values = Data[\"dy\"]\n",
    "totalbackground.add_uncertainty(unc_totalbackground)\n",
    "data.add_uncertainty(unc_data)\n",
    "\n",
    "\n",
    "table.add_variable(mmed)\n",
    "#table.add_variable(sig)\n",
    "table.add_variable(totalbackground)\n",
    "table.add_variable(data)\n",
    "submission.add_table(table)"
   ]
  },
  {
   "cell_type": "code",
   "execution_count": 70,
   "metadata": {},
   "outputs": [
    {
     "data": {
      "text/plain": [
       "{'x': [0.5, 0.7, 0.9, 1.2, 1.7, 2.75, 6.75],\n",
       " 'y': [0.004714559763669968,\n",
       "  3.914280891418457,\n",
       "  17.784940719604492,\n",
       "  62.210391998291016,\n",
       "  91.4008560180664,\n",
       "  88.45048522949219,\n",
       "  14.164371490478516],\n",
       " 'x_edges': [(0.4, 0.6),\n",
       "  (0.5999999999999999, 0.8),\n",
       "  (0.8, 1.0),\n",
       "  (1.0, 1.4),\n",
       "  (1.4, 2.0),\n",
       "  (2.0, 3.5),\n",
       "  (3.5, 10.0)],\n",
       " 'x_labels': ['', '', '', '', '', '', ''],\n",
       " 'dy': [0.0006727118442834681,\n",
       "  0.08976382381012545,\n",
       "  0.29699275886028886,\n",
       "  0.9697476264389274,\n",
       "  2.0450207885489737,\n",
       "  2.4206717712988324,\n",
       "  0.9139852474445072]}"
      ]
     },
     "execution_count": 70,
     "metadata": {},
     "output_type": "execute_result"
    }
   ],
   "source": [
    "signal"
   ]
  },
  {
   "cell_type": "markdown",
   "metadata": {},
   "source": [
    "# Figure 5 and table with theoretical cross-sections"
   ]
  },
  {
   "cell_type": "code",
   "execution_count": 71,
   "metadata": {},
   "outputs": [],
   "source": [
    "from hepdata_lib import Table\n",
    "table = Table(\"Figure 5a\")\n",
    "table.description = \"Expected (black dashed lines with green dark and yellow light bands) and observed (solid blue lines) limits on the product of cross section and branching fraction for the electron channel.  The uncertainty bands account for post-fit statistical and systematic uncertainty. The magenta dot-dashed lines denote the model cross sections for the benchmark scale parameter $\\Lambda=13 TeV$.\"\n",
    "table.location = \"Figure 5 (electron channel).\"\n",
    "table.keywords[\"observables\"] = [\"N\"]\n",
    "table.add_image(\"Figure_005-a.pdf\")\n",
    "submission.add_table(table)"
   ]
  },
  {
   "cell_type": "code",
   "execution_count": 72,
   "metadata": {},
   "outputs": [],
   "source": [
    "from hepdata_lib import Table\n",
    "table = Table(\"Figure 5b\")\n",
    "table.description = \"Expected (black dashed lines with green dark and yellow light bands) and observed (solid blue lines) limits on the product of cross section and branching fraction for the muon channel.  The uncertainty bands account for post-fit statistical and systematic uncertainty. The magenta dot-dashed lines denote the model cross sections for the benchmark scale parameter $\\Lambda=13 TeV$.\"\n",
    "table.location = \"Figure 5 (muon channel).\"\n",
    "table.keywords[\"observables\"] = [\"N\"]\n",
    "table.add_image(\"Figure_005-b.pdf\")\n",
    "submission.add_table(table)"
   ]
  },
  {
   "cell_type": "code",
   "execution_count": 73,
   "metadata": {},
   "outputs": [],
   "source": [
    "from hepdata_lib import Table\n",
    "table = Table(\"Theoretical cross-sections table\")\n",
    "table.description = \"Theoretical cross-sections for heavy composite majorana neutrino signals for $\\Lambda$=13 TeV.\"\n",
    "table.location = \"Additional material for Figures 5 a,b\"\n",
    "\n",
    "table.keywords[\"observables\"] = [\"ACC\", \"EFF\"]\n",
    "\n",
    "\n",
    "import numpy as np\n",
    "data = np.loadtxt(\"xsec.txt\", skiprows=2)\n"
   ]
  },
  {
   "cell_type": "code",
   "execution_count": 74,
   "metadata": {},
   "outputs": [
    {
     "name": "stdout",
     "output_type": "stream",
     "text": [
      "[[5.000e-01 5.716e-03]\n",
      " [1.000e+00 2.819e-03]\n",
      " [2.000e+00 8.207e-04]\n",
      " [5.000e+00 1.425e-05]\n",
      " [8.000e+00 9.135e-08]]\n"
     ]
    }
   ],
   "source": [
    "from __future__ import print_function\n",
    "print(data)"
   ]
  },
  {
   "cell_type": "code",
   "execution_count": 75,
   "metadata": {},
   "outputs": [],
   "source": [
    "from hepdata_lib import Variable\n",
    "mass = Variable(\"Mass (TeV)\", is_independent=True, is_binned=False, units=\"\")\n",
    "mass.values = data[:,0]\n",
    "\n",
    "xsec = Variable(\"cross-section for $\\Lambda$=13 TeV (pb)\", is_independent=False, is_binned=False, units=\"\")\n",
    "xsec.values = data[:,1]\n",
    "\n",
    "table.add_variable(mass)\n",
    "table.add_variable(xsec)\n",
    "\n",
    "submission.add_table(table)\n",
    "\n",
    "for table in submission.tables:\n",
    "    table.keywords[\"cmenergies\"] = [13000]"
   ]
  },
  {
   "cell_type": "markdown",
   "metadata": {},
   "source": [
    "# Figure 6"
   ]
  },
  {
   "cell_type": "code",
   "execution_count": 76,
   "metadata": {},
   "outputs": [],
   "source": [
    "from hepdata_lib import Table\n",
    "table = Table(\"Figure 6a\")\n",
    "table.description = \"Expected (black dashed lines with green dark and yellow light bands) and observed (solid blue lines) limits in the $(m_{N},\\Lambda)$ plane of the composite model for the electron channel. The gray shading indicates the region where $m_{N}$ would exceed $\\Lambda$, the EFT scale parameter, and the three solid magenta lines in the lower part of the plots represent the fraction of the signal-model phase space that satisfies the unitarity condition in the EFT approximation.\"\n",
    "table.location = \"Figure 6 (electron channel).\"\n",
    "table.keywords[\"observables\"] = [\"N\"]\n",
    "table.add_image(\"Figure_006-a.pdf\")\n",
    "submission.add_table(table)"
   ]
  },
  {
   "cell_type": "code",
   "execution_count": 77,
   "metadata": {},
   "outputs": [],
   "source": [
    "from hepdata_lib import Table\n",
    "table = Table(\"Figure 6b\")\n",
    "table.description = \"Expected (black dashed lines with green dark and yellow light bands) and observed (solid blue lines) limits in the $(m_{N},\\Lambda)$ plane of the composite model for the muon channel. The gray shading indicates the region where $m_{N}$ would exceed $\\Lambda$, the EFT scale parameter, and the three solid magenta lines in the lower part of the plots represent the fraction of the signal-model phase space that satisfies the unitarity condition in the EFT approximation.\"\n",
    "table.location = \"Figure 6 (muon channel).\"\n",
    "table.keywords[\"observables\"] = [\"N\"]\n",
    "table.add_image(\"Figure_006-b.pdf\")\n",
    "submission.add_table(table)"
   ]
  },
  {
   "cell_type": "markdown",
   "metadata": {},
   "source": [
    "## Output file"
   ]
  },
  {
   "cell_type": "markdown",
   "metadata": {},
   "source": [
    "Now it's time to create the submission for the upload. Here, we choose `example_output` as output directory:"
   ]
  },
  {
   "cell_type": "code",
   "execution_count": 78,
   "metadata": {},
   "outputs": [],
   "source": [
    "outdir = \"HN_output\"\n",
    "submission.create_files(outdir,remove_old=True)"
   ]
  },
  {
   "cell_type": "markdown",
   "metadata": {},
   "source": [
    "In the working directory, you will now find a `submission.tar.gz` file, which you can use for uploading to your HEPData sandbox:"
   ]
  },
  {
   "cell_type": "code",
   "execution_count": 79,
   "metadata": {},
   "outputs": [
    {
     "name": "stdout",
     "output_type": "stream",
     "text": [
      "submission.tar.gz\r\n"
     ]
    }
   ],
   "source": [
    "!ls submission.tar.gz"
   ]
  },
  {
   "cell_type": "markdown",
   "metadata": {},
   "source": [
    "And the `example_output` directory will contain the generated `yaml` files:"
   ]
  },
  {
   "cell_type": "code",
   "execution_count": 80,
   "metadata": {},
   "outputs": [
    {
     "name": "stdout",
     "output_type": "stream",
     "text": [
      "Figure_004-a.png  cut-flow_table.yaml  theoretical_cross-sections_table.yaml\r\n",
      "Figure_004-b.png  figure_4a.yaml       thumb_Figure_004-a.png\r\n",
      "Figure_005-a.png  figure_4b.yaml       thumb_Figure_004-b.png\r\n",
      "Figure_005-b.png  figure_5a.yaml       thumb_Figure_005-a.png\r\n",
      "Figure_006-a.png  figure_5b.yaml       thumb_Figure_005-b.png\r\n",
      "Figure_006-b.png  figure_6a.yaml       thumb_Figure_006-a.png\r\n",
      "HNmodel.tar\t  figure_6b.yaml       thumb_Figure_006-b.png\r\n",
      "LHEheaders.tar\t  submission.yaml\r\n"
     ]
    }
   ],
   "source": [
    "!ls HN_output"
   ]
  }
 ],
 "metadata": {
  "kernelspec": {
   "display_name": "Python 3",
   "language": "python",
   "name": "python3"
  },
  "language_info": {
   "codemirror_mode": {
    "name": "ipython",
    "version": 3
   },
   "file_extension": ".py",
   "mimetype": "text/x-python",
   "name": "python",
   "nbconvert_exporter": "python",
   "pygments_lexer": "ipython3",
   "version": "3.9.0"
  },
  "vscode": {
   "interpreter": {
    "hash": "31f2aee4e71d21fbe5cf8b01ff0e069b9275f58929596ceb00d14d90e3e16cd6"
   }
  }
 },
 "nbformat": 4,
 "nbformat_minor": 2
}
