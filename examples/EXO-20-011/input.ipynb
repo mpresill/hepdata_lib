{
 "cells": [
  {
   "cell_type": "markdown",
   "metadata": {},
   "source": [
    "## General setup\n",
    "\n",
    "To make sure things are working and `hepdata_lib` is available, run the following command:"
   ]
  },
  {
   "cell_type": "code",
   "execution_count": 1,
   "metadata": {},
   "outputs": [
    {
     "name": "stdout",
     "output_type": "stream",
     "text": [
      "Welcome to JupyROOT 6.22/06\n"
     ]
    }
   ],
   "source": [
    "import hepdata_lib"
   ]
  },
  {
   "cell_type": "markdown",
   "metadata": {},
   "source": [
    "## Creating your HEPData submission\n",
    "\n",
    "The `Submission` object represents the whole HEPData entry and thus carries the top-level meta data that is equally valid for all the tables and variables you may want to enter. The object is also used to create the physical submission files you will upload to the HEPData web interface.\n",
    "\n",
    "When using `hepdata_lib` to make an entry, you always need to create a `Submission` object. Let's do that now, and then add data to it step by step:"
   ]
  },
  {
   "cell_type": "code",
   "execution_count": 2,
   "metadata": {},
   "outputs": [],
   "source": [
    "from hepdata_lib import Submission\n",
    "submission = Submission()"
   ]
  },
  {
   "cell_type": "markdown",
   "metadata": {},
   "source": [
    "In general, a `Submission` should contain details on the actual analysis such as it's abstract as well as links to the actual publication. The abstract should be in a plain text file. For `inspire` there's a special `record_id`, while for links to `arXiv` etc. one should use plain hyperlinks."
   ]
  },
  {
   "cell_type": "code",
   "execution_count": 3,
   "metadata": {},
   "outputs": [],
   "source": [
    "submission.read_abstract(\"abstract.txt\")\n",
    "#submission.add_link(\"Webpage with all figures and tables\", \"https://cms-results.web.cern.ch/cms-results/public-results/publications/B2G-16-029/\")\n",
    "#submission.add_link(\"arXiv\", \"http://arxiv.org/abs/arXiv:1802.09407\")\n",
    "#submission.add_record_id(1657397, \"inspire\")"
   ]
  },
  {
   "cell_type": "markdown",
   "metadata": {},
   "source": [
    "Adding CalcHEP model and LHE headers"
   ]
  },
  {
   "cell_type": "code",
   "execution_count": 4,
   "metadata": {},
   "outputs": [],
   "source": [
    "submission.add_additional_resource(\"CalcHEP model.\",\"HNmodel.tar\", copy_file=True)\n",
    "submission.add_additional_resource(\"CalcHEP LHE headers.\",\"LHEheaders.tar\", copy_file=True)"
   ]
  },
  {
   "cell_type": "markdown",
   "metadata": {},
   "source": [
    "## Adding a table/figure\n",
    "\n",
    "In HEPData, figures and table will both be `Table` objects. The example here shows reading a plain text file containing the signal effiency times acceptance as a function of resonance mass for different signal models. The file has been uploaded to the `example_files` directory. For your submission, create a new directory, e.g. using the analysis identifier.\n",
    "\n",
    "Let's have a look at the file:"
   ]
  },
  {
   "cell_type": "code",
   "execution_count": 5,
   "metadata": {},
   "outputs": [
    {
     "name": "stdout",
     "output_type": "stream",
     "text": [
      "SELECTION           mumujj   eejj\r\n",
      "---------           ------  -----\r\n",
      "Trigger             0.692   0.515\r\n",
      "LeadingLepton     0.692   0.515\r\n",
      "SubleadingLepton     0.692   0.515\r\n",
      "FatJet               0.407   0.305\r\n",
      "m(ll)                0.379   0.305\r\n"
     ]
    }
   ],
   "source": [
    "!head cutflowM500.txt"
   ]
  },
  {
   "cell_type": "markdown",
   "metadata": {},
   "source": [
    "The first column is the mass value, the other columns contain the efficiency times acceptance values.\n",
    "\n",
    "Let's create the table/figure. First, we need to give it a name, which is usually just the identifier in the paper, here \"Figure 1\". The table also needs a description, which is usually the caption. You also need to describe the location, i.e. where to find it in the publication:"
   ]
  },
  {
   "cell_type": "code",
   "execution_count": 6,
   "metadata": {},
   "outputs": [],
   "source": [
    "from hepdata_lib import Table\n",
    "table = Table(\"Cut-flow table\")\n",
    "table.description = \"Cut-flow table mN=0.5TeV, electron, muon channel, 2016.\"\n",
    "table.location = \"Additional material\""
   ]
  },
  {
   "cell_type": "markdown",
   "metadata": {},
   "source": [
    "Now we need to provide more information on what is actually shown, which is done via `keywords`. The ones that are available can be taken from the documentation:\n",
    "- [Observables](https://hepdata-submission.readthedocs.io/en/latest/keywords/observables.html)\n",
    "- [Phrases](https://hepdata-submission.readthedocs.io/en/latest/keywords/phrases.html)\n",
    "- [Particles](https://hepdata-submission.readthedocs.io/en/latest/keywords/partlist.html)"
   ]
  },
  {
   "cell_type": "code",
   "execution_count": 7,
   "metadata": {},
   "outputs": [],
   "source": [
    "table.keywords[\"observables\"] = [\"ACC\", \"EFF\"]"
   ]
  },
  {
   "cell_type": "markdown",
   "metadata": {},
   "source": [
    "Let's read in the file. For this purpose, `numpy` is very handy. Since the first two rows are the header, we skip them:"
   ]
  },
  {
   "cell_type": "code",
   "execution_count": 8,
   "metadata": {},
   "outputs": [],
   "source": [
    "import numpy as np\n",
    "data = np.loadtxt(\"cutflowM500.txt\", skiprows=2, usecols=range(1,3))"
   ]
  },
  {
   "cell_type": "code",
   "execution_count": 9,
   "metadata": {},
   "outputs": [],
   "source": [
    "dataTXT = np.loadtxt(\"cutflowM500.txt\", skiprows=2, usecols=range(0), dtype=\"str\")"
   ]
  },
  {
   "cell_type": "markdown",
   "metadata": {},
   "source": [
    "`numpy` stores the content as arrays. You can actually see that the entry that was labelled as `NaN` is correctly read in:"
   ]
  },
  {
   "cell_type": "code",
   "execution_count": 10,
   "metadata": {},
   "outputs": [
    {
     "name": "stdout",
     "output_type": "stream",
     "text": [
      "[[0.692 0.515]\n",
      " [0.692 0.515]\n",
      " [0.692 0.515]\n",
      " [0.407 0.305]\n",
      " [0.379 0.305]]\n"
     ]
    }
   ],
   "source": [
    "from __future__ import print_function\n",
    "print(data)"
   ]
  },
  {
   "cell_type": "markdown",
   "metadata": {},
   "source": [
    "We will now use this for our `Variable` definitions. The x-axis is usually the independent variable (`is_independent=True`), whereas the other ones are dependent (i.e. a function of the former). You also need to declare whether the variable is binned or not as well as the units. Similar as for the `keywords` used above, it is again important to provide additional information that can be found via the HEPData web interface using the observables and particles linked above. The values assigned are just slices of the `data` array:"
   ]
  },
  {
   "cell_type": "code",
   "execution_count": 11,
   "metadata": {},
   "outputs": [],
   "source": [
    "from hepdata_lib import Variable\n",
    "d = Variable(\"Selection\", is_independent=True, is_binned=False, units=\"\")\n",
    "d.values = dataTXT[:,0]\n",
    "\n",
    "Effmumujj = Variable(\"Efficiency mumujj\", is_independent=False, is_binned=False, units=\"\")\n",
    "Effmumujj.values = data[:,0]\n",
    "Effmumujj.add_qualifier(\"SQRT(S)\", 13, \"TeV\")\n",
    "\n",
    "Effeejj = Variable(\"Efficiency eejj\", is_independent=False, is_binned=False, units=\"\")\n",
    "Effeejj.values = data[:,1]\n",
    "Effeejj.add_qualifier(\"SQRT(S)\", 13, \"TeV\")\n",
    "\n",
    "table.add_variable(d)\n",
    "table.add_variable(Effmumujj)\n",
    "table.add_variable(Effeejj)"
   ]
  },
  {
   "cell_type": "markdown",
   "metadata": {},
   "source": [
    "This is all that's needed for the table/figure. We still need it to the submission:"
   ]
  },
  {
   "cell_type": "code",
   "execution_count": 12,
   "metadata": {},
   "outputs": [],
   "source": [
    "submission.add_table(table)"
   ]
  },
  {
   "cell_type": "markdown",
   "metadata": {},
   "source": [
    "Once you've added all tables/figures and the general submission details, you should add a few more keywords to all tables for better identification and searchability, e.g. the centre-of-mass energy:"
   ]
  },
  {
   "cell_type": "code",
   "execution_count": 13,
   "metadata": {},
   "outputs": [],
   "source": [
    "for table in submission.tables:\n",
    "    table.keywords[\"cmenergies\"] = [13000]"
   ]
  },
  {
   "cell_type": "markdown",
   "metadata": {},
   "source": [
    "# Reading histograms for SR plots"
   ]
  },
  {
   "cell_type": "code",
   "execution_count": 14,
   "metadata": {},
   "outputs": [],
   "source": [
    "from hepdata_lib import Table\n",
    "table = Table(\"Figure 4a\")\n",
    "table.description = \"Distributions of \\mllj for the data, and the post-fit backgrounds (stacked histograms), in the SRs of the \\eeqq (left) and the \\mmqq (right) channels. The template for one signal hypothesis is shown overlaid as a yellow solid line. The overflow is included in the last bin. The middle panels show ratios of the data to the pre-fit background prediction and post-fit background yield as red open squares and blue points, respectively. The gray band in the middle panels indicates the systematic component of the post-fit uncertainty. The lower panels show the distributions of the pulls, defined in the text.\"\n",
    "table.location = \"Data from Figure 4 (upper left).\"\n",
    "table.keywords[\"observables\"] = [\"N\"]\n",
    "table.add_image(\"Figure_004-a.pdf\")"
   ]
  },
  {
   "cell_type": "code",
   "execution_count": 15,
   "metadata": {},
   "outputs": [
    {
     "ename": "RuntimeError",
     "evalue": "Cannot find file: eejj_PostFit_histograms_L13_M05.rootjj_PostFit_histograms_L13_M05.root",
     "output_type": "error",
     "traceback": [
      "\u001b[0;31m---------------------------------------------------------------------------\u001b[0m",
      "\u001b[0;31mRuntimeError\u001b[0m                              Traceback (most recent call last)",
      "\u001b[0;32m<ipython-input-15-59f5142b2abd>\u001b[0m in \u001b[0;36m<module>\u001b[0;34m\u001b[0m\n\u001b[1;32m      1\u001b[0m \u001b[0;32mfrom\u001b[0m \u001b[0mhepdata_lib\u001b[0m \u001b[0;32mimport\u001b[0m \u001b[0mRootFileReader\u001b[0m\u001b[0;34m\u001b[0m\u001b[0;34m\u001b[0m\u001b[0m\n\u001b[1;32m      2\u001b[0m \u001b[0;34m\u001b[0m\u001b[0m\n\u001b[0;32m----> 3\u001b[0;31m \u001b[0mreader\u001b[0m \u001b[0;34m=\u001b[0m \u001b[0mRootFileReader\u001b[0m\u001b[0;34m(\u001b[0m\u001b[0;34m\"eejj_PostFit_histograms_L13_M05.rootjj_PostFit_histograms_L13_M05.root\"\u001b[0m\u001b[0;34m)\u001b[0m\u001b[0;34m\u001b[0m\u001b[0;34m\u001b[0m\u001b[0m\n\u001b[0m\u001b[1;32m      4\u001b[0m \u001b[0mreader_data\u001b[0m \u001b[0;34m=\u001b[0m \u001b[0mRootFileReader\u001b[0m\u001b[0;34m(\u001b[0m\u001b[0;34m\"eejj_PostFit_histograms_L13_M05.rootjj_PostFit_histograms_L13_M05.root\"\u001b[0m\u001b[0;34m)\u001b[0m\u001b[0;34m\u001b[0m\u001b[0;34m\u001b[0m\u001b[0m\n\u001b[1;32m      5\u001b[0m \u001b[0mreader_signal\u001b[0m \u001b[0;34m=\u001b[0m \u001b[0mRootFileReader\u001b[0m\u001b[0;34m(\u001b[0m\u001b[0;34m\"eejj_PostFit_histograms_L13_M05.rootjj_PostFit_histograms_L13_M05.root\"\u001b[0m\u001b[0;34m)\u001b[0m\u001b[0;34m\u001b[0m\u001b[0;34m\u001b[0m\u001b[0m\n",
      "\u001b[0;32m/usr/local/lib/python3.9/site-packages/hepdata_lib/root_utils.py\u001b[0m in \u001b[0;36m__init__\u001b[0;34m(self, tfile)\u001b[0m\n\u001b[1;32m     12\u001b[0m     \u001b[0;32mdef\u001b[0m \u001b[0m__init__\u001b[0m\u001b[0;34m(\u001b[0m\u001b[0mself\u001b[0m\u001b[0;34m,\u001b[0m \u001b[0mtfile\u001b[0m\u001b[0;34m)\u001b[0m\u001b[0;34m:\u001b[0m\u001b[0;34m\u001b[0m\u001b[0;34m\u001b[0m\u001b[0m\n\u001b[1;32m     13\u001b[0m         \u001b[0mself\u001b[0m\u001b[0;34m.\u001b[0m\u001b[0m_tfile\u001b[0m \u001b[0;34m=\u001b[0m \u001b[0;32mNone\u001b[0m\u001b[0;34m\u001b[0m\u001b[0;34m\u001b[0m\u001b[0m\n\u001b[0;32m---> 14\u001b[0;31m         \u001b[0mself\u001b[0m\u001b[0;34m.\u001b[0m\u001b[0mtfile\u001b[0m \u001b[0;34m=\u001b[0m \u001b[0mtfile\u001b[0m\u001b[0;34m\u001b[0m\u001b[0;34m\u001b[0m\u001b[0m\n\u001b[0m\u001b[1;32m     15\u001b[0m \u001b[0;34m\u001b[0m\u001b[0m\n\u001b[1;32m     16\u001b[0m     \u001b[0;32mdef\u001b[0m \u001b[0m__del__\u001b[0m\u001b[0;34m(\u001b[0m\u001b[0mself\u001b[0m\u001b[0;34m)\u001b[0m\u001b[0;34m:\u001b[0m\u001b[0;34m\u001b[0m\u001b[0;34m\u001b[0m\u001b[0m\n",
      "\u001b[0;32m/usr/local/lib/python3.9/site-packages/hepdata_lib/root_utils.py\u001b[0m in \u001b[0;36mtfile\u001b[0;34m(self, tfile)\u001b[0m\n\u001b[1;32m     37\u001b[0m                     \u001b[0;34m\"RootFileReader: Input file is not a ROOT file (name does not end in .root)!\"\u001b[0m\u001b[0;34m\u001b[0m\u001b[0;34m\u001b[0m\u001b[0m\n\u001b[1;32m     38\u001b[0m                     )\n\u001b[0;32m---> 39\u001b[0;31m             \u001b[0;32mif\u001b[0m \u001b[0mcheck_file_existence\u001b[0m\u001b[0;34m(\u001b[0m\u001b[0mtfile\u001b[0m\u001b[0;34m)\u001b[0m\u001b[0;34m:\u001b[0m\u001b[0;34m\u001b[0m\u001b[0;34m\u001b[0m\u001b[0m\n\u001b[0m\u001b[1;32m     40\u001b[0m                 \u001b[0mself\u001b[0m\u001b[0;34m.\u001b[0m\u001b[0m_tfile\u001b[0m \u001b[0;34m=\u001b[0m \u001b[0mr\u001b[0m\u001b[0;34m.\u001b[0m\u001b[0mTFile\u001b[0m\u001b[0;34m(\u001b[0m\u001b[0mtfile\u001b[0m\u001b[0;34m)\u001b[0m\u001b[0;34m\u001b[0m\u001b[0;34m\u001b[0m\u001b[0m\n\u001b[1;32m     41\u001b[0m         \u001b[0;32melif\u001b[0m \u001b[0misinstance\u001b[0m\u001b[0;34m(\u001b[0m\u001b[0mtfile\u001b[0m\u001b[0;34m,\u001b[0m \u001b[0mr\u001b[0m\u001b[0;34m.\u001b[0m\u001b[0mTFile\u001b[0m\u001b[0;34m)\u001b[0m\u001b[0;34m:\u001b[0m\u001b[0;34m\u001b[0m\u001b[0;34m\u001b[0m\u001b[0m\n",
      "\u001b[0;32m/usr/local/lib/python3.9/site-packages/hepdata_lib/helpers.py\u001b[0m in \u001b[0;36mcheck_file_existence\u001b[0;34m(path_to_file)\u001b[0m\n\u001b[1;32m    226\u001b[0m     \"\"\"\n\u001b[1;32m    227\u001b[0m     \u001b[0;32mif\u001b[0m \u001b[0;32mnot\u001b[0m \u001b[0mos\u001b[0m\u001b[0;34m.\u001b[0m\u001b[0mpath\u001b[0m\u001b[0;34m.\u001b[0m\u001b[0mexists\u001b[0m\u001b[0;34m(\u001b[0m\u001b[0mpath_to_file\u001b[0m\u001b[0;34m)\u001b[0m\u001b[0;34m:\u001b[0m\u001b[0;34m\u001b[0m\u001b[0;34m\u001b[0m\u001b[0m\n\u001b[0;32m--> 228\u001b[0;31m         \u001b[0;32mraise\u001b[0m \u001b[0mRuntimeError\u001b[0m\u001b[0;34m(\u001b[0m\u001b[0;34m\"Cannot find file: \"\u001b[0m \u001b[0;34m+\u001b[0m \u001b[0mpath_to_file\u001b[0m\u001b[0;34m)\u001b[0m\u001b[0;34m\u001b[0m\u001b[0;34m\u001b[0m\u001b[0m\n\u001b[0m\u001b[1;32m    229\u001b[0m     \u001b[0;32mreturn\u001b[0m \u001b[0;32mTrue\u001b[0m\u001b[0;34m\u001b[0m\u001b[0;34m\u001b[0m\u001b[0m\n\u001b[1;32m    230\u001b[0m \u001b[0;34m\u001b[0m\u001b[0m\n",
      "\u001b[0;31mRuntimeError\u001b[0m: Cannot find file: eejj_PostFit_histograms_L13_M05.rootjj_PostFit_histograms_L13_M05.root"
     ]
    }
   ],
   "source": [
    "from hepdata_lib import RootFileReader\n",
    "\n",
    "reader = RootFileReader(\"eejj_PostFit_histograms_L13_M05.rootjj_PostFit_histograms_L13_M05.root\")\n",
    "reader_data = RootFileReader(\"eejj_PostFit_histograms_L13_M05.rootjj_PostFit_histograms_L13_M05.root\")\n",
    "reader_signal = RootFileReader(\"eejj_PostFit_histograms_L13_M05.rootjj_PostFit_histograms_L13_M05.root\")\n",
    "\n",
    "TotalBackground = reader.read_hist_1d(\"prefit/TotalBkg\")\n",
    "#TT = reader.read_hist_1d(\"shapes_prefit/cat0_singleH/TT\")\n",
    "#QCD = reader.read_hist_1d(\"shapes_prefit/cat0_singleH/QCDTT\")\n",
    "#WJets = reader.read_hist_1d(\"shapes_prefit/cat0_singleH/WJets\")\n",
    "#ZJets = reader.read_hist_1d(\"shapes_prefit/cat0_singleH/ZJets\")\n",
    "\n",
    "Data = reader_data.read_hist_1d(\"prefit/data_obs\")\n",
    "\n",
    "signal = reader_signal.read_hist_1d(\"prefit/TotalSig\")"
   ]
  },
  {
   "cell_type": "code",
   "execution_count": 64,
   "metadata": {},
   "outputs": [],
   "source": [
    "from hepdata_lib import Variable, Uncertainty\n",
    "\n",
    "# x-axis: B quark mass\n",
    "mmed = Variable(\"$M_{bH}$\", is_independent=True, is_binned=False, units=\"GeV\")\n",
    "mmed.values = signal[\"x\"]\n",
    "\n",
    "# y-axis: N events\n",
    "sig = Variable(\"Number of signal events\", is_independent=False, is_binned=False, units=\"\")\n",
    "sig.values = signal[\"y\"]\n",
    "\n",
    "totalbackground = Variable(\"Number of background events\", is_independent=False, is_binned=False, units=\"\")\n",
    "totalbackground.values = TotalBackground[\"y\"]\n",
    "\n",
    "#tt = Variable(\"Number of ttbar events\", is_independent=False, is_binned=False, units=\"\")\n",
    "#tt.values = TT[\"y\"]\n",
    "\n",
    "#qcd = Variable(\"Number of qcd events\", is_independent=False, is_binned=False, units=\"\")\n",
    "#qcd.values = QCD[\"y\"]\n",
    "\n",
    "#wjets = Variable(\"Number of wjets events\", is_independent=False, is_binned=False, units=\"\")\n",
    "#wjets.values = WJets[\"y\"]\n",
    "\n",
    "#zjets = Variable(\"Number of zjets events\", is_independent=False, is_binned=False, units=\"\")\n",
    "#zjets.values = ZJets[\"y\"]\n",
    "\n",
    "data = Variable(\"Number of data events\", is_independent=False, is_binned=False, units=\"\")\n",
    "data.values = Data[\"y\"]"
   ]
  },
  {
   "cell_type": "code",
   "execution_count": 65,
   "metadata": {},
   "outputs": [],
   "source": [
    "from hepdata_lib import Uncertainty\n",
    "\n",
    "unc_totalbackground = Uncertainty(\"total uncertainty\", is_symmetric=True)\n",
    "unc_totalbackground.values = TotalBackground[\"dy\"]\n",
    "\n",
    "unc_data = Uncertainty(\"Poisson errors\", is_symmetric=True)\n",
    "unc_data.values = Data[\"dy\"]\n",
    "\n",
    "totalbackground.add_uncertainty(unc_totalbackground)\n",
    "data.add_uncertainty(unc_data)"
   ]
  },
  {
   "cell_type": "code",
   "execution_count": 66,
   "metadata": {},
   "outputs": [],
   "source": [
    "table.add_variable(mmed)\n",
    "table.add_variable(sig)\n",
    "table.add_variable(totalbackground)\n",
    "table.add_variable(tt)\n",
    "table.add_variable(qcd)\n",
    "table.add_variable(zjets)\n",
    "table.add_variable(wjets)\n",
    "table.add_variable(data)\n",
    "\n",
    "submission.add_table(table)"
   ]
  },
  {
   "cell_type": "markdown",
   "metadata": {},
   "source": [
    "## Output file"
   ]
  },
  {
   "cell_type": "markdown",
   "metadata": {},
   "source": [
    "Now it's time to create the submission for the upload. Here, we choose `example_output` as output directory:"
   ]
  },
  {
   "cell_type": "code",
   "execution_count": 67,
   "metadata": {},
   "outputs": [],
   "source": [
    "outdir = \"HN_output\"\n",
    "submission.create_files(outdir,remove_old=True)"
   ]
  },
  {
   "cell_type": "markdown",
   "metadata": {},
   "source": [
    "In the working directory, you will now find a `submission.tar.gz` file, which you can use for uploading to your HEPData sandbox:"
   ]
  },
  {
   "cell_type": "code",
   "execution_count": 68,
   "metadata": {},
   "outputs": [
    {
     "name": "stdout",
     "output_type": "stream",
     "text": [
      "submission.tar.gz\r\n"
     ]
    }
   ],
   "source": [
    "!ls submission.tar.gz"
   ]
  },
  {
   "cell_type": "markdown",
   "metadata": {},
   "source": [
    "And the `example_output` directory will contain the generated `yaml` files:"
   ]
  },
  {
   "cell_type": "code",
   "execution_count": 69,
   "metadata": {},
   "outputs": [
    {
     "name": "stdout",
     "output_type": "stream",
     "text": [
      "CMS-B2G-17-009_Figure_004-a.png  figure_4a.yaml\r\n",
      "HNmodel.tar\t\t\t submission.yaml\r\n",
      "LHEheaders.tar\t\t\t thumb_CMS-B2G-17-009_Figure_004-a.png\r\n",
      "cut-flow_table.yaml\r\n"
     ]
    }
   ],
   "source": [
    "!ls HN_output"
   ]
  },
  {
   "cell_type": "code",
   "execution_count": null,
   "metadata": {},
   "outputs": [],
   "source": []
  }
 ],
 "metadata": {
  "kernelspec": {
   "display_name": "Python 3",
   "language": "python",
   "name": "python3"
  },
  "language_info": {
   "codemirror_mode": {
    "name": "ipython",
    "version": 3
   },
   "file_extension": ".py",
   "mimetype": "text/x-python",
   "name": "python",
   "nbconvert_exporter": "python",
   "pygments_lexer": "ipython3",
   "version": "3.9.0"
  },
  "vscode": {
   "interpreter": {
    "hash": "31f2aee4e71d21fbe5cf8b01ff0e069b9275f58929596ceb00d14d90e3e16cd6"
   }
  }
 },
 "nbformat": 4,
 "nbformat_minor": 2
}
